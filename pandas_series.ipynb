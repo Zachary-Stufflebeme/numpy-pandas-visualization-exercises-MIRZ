{
 "cells": [
  {
   "cell_type": "code",
   "execution_count": 58,
   "id": "230173e7-790e-4bc3-9f03-319a74c4abdc",
   "metadata": {},
   "outputs": [],
   "source": [
    "import numpy as np\n",
    "import pandas as pd\n",
    "import random\n",
    "from function_imp import clean_balance\n",
    "import matplotlib.pyplot as plt"
   ]
  },
  {
   "cell_type": "code",
   "execution_count": 2,
   "id": "8a4ebb6d-19ab-4435-af2a-69de2221f920",
   "metadata": {},
   "outputs": [],
   "source": [
    "fruits =  pd.Series([\"kiwi\", \"mango\", \"strawberry\", \"pineapple\", \"gala apple\", \"honeycrisp apple\", \"tomato\", \"watermelon\", \"honeydew\", \"kiwi\", \"kiwi\", \"kiwi\", \"mango\", \"blueberry\", \"blackberry\", \"gooseberry\", \"papaya\"])\n"
   ]
  },
  {
   "cell_type": "markdown",
   "id": "ba0ba07e-2bcc-4389-ac9b-2965e759e22a",
   "metadata": {},
   "source": [
    "# Exercises Pt. 1:"
   ]
  },
  {
   "cell_type": "markdown",
   "id": "840faa42-9555-4c1b-a427-acdea67129a0",
   "metadata": {},
   "source": [
    "## 1. Determine the number of elements in fruits"
   ]
  },
  {
   "cell_type": "code",
   "execution_count": 3,
   "id": "3909e6e5-c5ef-4c75-bfef-84a0fd5d3a25",
   "metadata": {},
   "outputs": [
    {
     "data": {
      "text/plain": [
       "17"
      ]
     },
     "execution_count": 3,
     "metadata": {},
     "output_type": "execute_result"
    }
   ],
   "source": [
    "len(fruits)"
   ]
  },
  {
   "cell_type": "markdown",
   "id": "29655708-f03b-44bf-b61a-3d95aa579d77",
   "metadata": {},
   "source": [
    "## 2. output only the index from fruits."
   ]
  },
  {
   "cell_type": "code",
   "execution_count": 4,
   "id": "5e7bb8ae-3473-4098-a048-281e73287bd5",
   "metadata": {},
   "outputs": [
    {
     "data": {
      "text/plain": [
       "[0, 1, 2, 3, 4, 5, 6, 7, 8, 9, 10, 11, 12, 13, 14, 15, 16]"
      ]
     },
     "execution_count": 4,
     "metadata": {},
     "output_type": "execute_result"
    }
   ],
   "source": [
    "newlist = []\n",
    "count = 0\n",
    "for x in fruits:\n",
    "    newlist.append(count)\n",
    "    count += 1\n",
    "newlist\n",
    "\n"
   ]
  },
  {
   "cell_type": "markdown",
   "id": "071c59e1-b080-4b72-9cee-421e69ab304d",
   "metadata": {},
   "source": [
    "OR:"
   ]
  },
  {
   "cell_type": "code",
   "execution_count": 5,
   "id": "a3fe8bb8-4033-4ee7-9885-4c3e55a18e79",
   "metadata": {},
   "outputs": [
    {
     "data": {
      "text/plain": [
       "RangeIndex(start=0, stop=17, step=1)"
      ]
     },
     "execution_count": 5,
     "metadata": {},
     "output_type": "execute_result"
    }
   ],
   "source": [
    "fruits.index"
   ]
  },
  {
   "cell_type": "markdown",
   "id": "bc7769d2-8fb1-43a6-a33c-b0da9f47f657",
   "metadata": {},
   "source": [
    "## 3. output only the values from fruits"
   ]
  },
  {
   "cell_type": "code",
   "execution_count": 6,
   "id": "70f9a82e-0c78-4649-904d-1b222c382033",
   "metadata": {},
   "outputs": [
    {
     "data": {
      "text/plain": [
       "array(['kiwi', 'mango', 'strawberry', 'pineapple', 'gala apple',\n",
       "       'honeycrisp apple', 'tomato', 'watermelon', 'honeydew', 'kiwi',\n",
       "       'kiwi', 'kiwi', 'mango', 'blueberry', 'blackberry', 'gooseberry',\n",
       "       'papaya'], dtype=object)"
      ]
     },
     "execution_count": 6,
     "metadata": {},
     "output_type": "execute_result"
    }
   ],
   "source": [
    "fruits.values"
   ]
  },
  {
   "cell_type": "markdown",
   "id": "4f8d9f16-642c-49b1-b9f9-61bf143cfab4",
   "metadata": {},
   "source": [
    "## 4. confirm the data types of the values in fruits."
   ]
  },
  {
   "cell_type": "code",
   "execution_count": 7,
   "id": "21e3b7ee-6093-4e36-bba1-c029a488a15b",
   "metadata": {},
   "outputs": [
    {
     "data": {
      "text/plain": [
       "dtype('O')"
      ]
     },
     "execution_count": 7,
     "metadata": {},
     "output_type": "execute_result"
    }
   ],
   "source": [
    "fruits.dtype"
   ]
  },
  {
   "cell_type": "markdown",
   "id": "52aa5031-635d-4917-be2f-2fb2e747fcaf",
   "metadata": {},
   "source": [
    " they are objects/strings"
   ]
  },
  {
   "cell_type": "markdown",
   "id": "46fdd57d-d44f-4f67-a602-5dd8a3521bee",
   "metadata": {},
   "source": [
    "## 5. Output only the first five values from fruits. Output the last three values. Output two random values from fruits."
   ]
  },
  {
   "cell_type": "markdown",
   "id": "c20aed24-4ba4-49a7-a0fb-35e554a78549",
   "metadata": {},
   "source": [
    "first 5:"
   ]
  },
  {
   "cell_type": "code",
   "execution_count": 8,
   "id": "3a329420-e5bb-42f3-a327-eec2fcaa16c4",
   "metadata": {},
   "outputs": [
    {
     "data": {
      "text/plain": [
       "0          kiwi\n",
       "1         mango\n",
       "2    strawberry\n",
       "3     pineapple\n",
       "4    gala apple\n",
       "dtype: object"
      ]
     },
     "execution_count": 8,
     "metadata": {},
     "output_type": "execute_result"
    }
   ],
   "source": [
    "fruits[0:5]"
   ]
  },
  {
   "cell_type": "markdown",
   "id": "b8c68ab1-4041-4187-9441-3d3b6abeef41",
   "metadata": {},
   "source": [
    "last 3:"
   ]
  },
  {
   "cell_type": "code",
   "execution_count": 9,
   "id": "9b3346e3-8e1f-4b8c-acd1-079f21a5576c",
   "metadata": {},
   "outputs": [
    {
     "data": {
      "text/plain": [
       "14    blackberry\n",
       "15    gooseberry\n",
       "16        papaya\n",
       "dtype: object"
      ]
     },
     "execution_count": 9,
     "metadata": {},
     "output_type": "execute_result"
    }
   ],
   "source": [
    "fruits[14:]"
   ]
  },
  {
   "cell_type": "markdown",
   "id": "b22ae7ca-644a-49d1-9258-7be945c3091f",
   "metadata": {},
   "source": [
    "Two random:"
   ]
  },
  {
   "cell_type": "code",
   "execution_count": 10,
   "id": "c19abde2-a51a-41f5-867f-fe06e8dd1337",
   "metadata": {},
   "outputs": [
    {
     "data": {
      "text/plain": [
       "0     kiwi\n",
       "1    mango\n",
       "dtype: object"
      ]
     },
     "execution_count": 10,
     "metadata": {},
     "output_type": "execute_result"
    }
   ],
   "source": [
    "x = random.randint(0,14)\n",
    "fruits[x:x + 2]"
   ]
  },
  {
   "cell_type": "markdown",
   "id": "987468d7-0793-4872-a142-348c60449997",
   "metadata": {},
   "source": [
    "## 6. Run the .describe() on fruits to see what information it returns when called on a Series with string values."
   ]
  },
  {
   "cell_type": "code",
   "execution_count": 11,
   "id": "2079e5c0-0cad-401d-ab54-63d1bee17708",
   "metadata": {},
   "outputs": [
    {
     "data": {
      "text/plain": [
       "count       17\n",
       "unique      13\n",
       "top       kiwi\n",
       "freq         4\n",
       "dtype: object"
      ]
     },
     "execution_count": 11,
     "metadata": {},
     "output_type": "execute_result"
    }
   ],
   "source": [
    "fruits.describe()"
   ]
  },
  {
   "cell_type": "markdown",
   "id": "edc78c45-da75-425a-a9d0-8e3a25fe2c73",
   "metadata": {},
   "source": [
    "## 7. Run the code necessary to produce only the unique string values from fruits."
   ]
  },
  {
   "cell_type": "code",
   "execution_count": 12,
   "id": "bba3e804-cbd4-4606-96c6-8c0cedea3995",
   "metadata": {},
   "outputs": [
    {
     "data": {
      "text/plain": [
       "array(['blackberry', 'blueberry', 'gala apple', 'gooseberry',\n",
       "       'honeycrisp apple', 'honeydew', 'kiwi', 'mango', 'papaya',\n",
       "       'pineapple', 'strawberry', 'tomato', 'watermelon'], dtype=object)"
      ]
     },
     "execution_count": 12,
     "metadata": {},
     "output_type": "execute_result"
    }
   ],
   "source": [
    "np.unique(fruits)"
   ]
  },
  {
   "cell_type": "markdown",
   "id": "70ceb6ce-3540-4cc7-ba3a-6c20971dc994",
   "metadata": {},
   "source": [
    "## 8.Determine how many times each unique string value occurs in fruits."
   ]
  },
  {
   "cell_type": "code",
   "execution_count": 13,
   "id": "7f69c811-120a-469d-a5ba-8e1fdbd4d5f9",
   "metadata": {},
   "outputs": [
    {
     "data": {
      "text/plain": [
       "kiwi                4\n",
       "mango               2\n",
       "strawberry          1\n",
       "pineapple           1\n",
       "gala apple          1\n",
       "honeycrisp apple    1\n",
       "tomato              1\n",
       "watermelon          1\n",
       "honeydew            1\n",
       "blueberry           1\n",
       "blackberry          1\n",
       "gooseberry          1\n",
       "papaya              1\n",
       "dtype: int64"
      ]
     },
     "execution_count": 13,
     "metadata": {},
     "output_type": "execute_result"
    }
   ],
   "source": [
    "fruits.value_counts()"
   ]
  },
  {
   "cell_type": "markdown",
   "id": "79140d58-11a1-43b6-8297-db844197d084",
   "metadata": {},
   "source": [
    "## 9. Determine the string value that occurs most frequently in fruits.\n"
   ]
  },
  {
   "cell_type": "code",
   "execution_count": 14,
   "id": "41a1258f-6b89-469b-8697-9ab3835f8bb2",
   "metadata": {},
   "outputs": [
    {
     "data": {
      "text/plain": [
       "kiwi    4\n",
       "dtype: int64"
      ]
     },
     "execution_count": 14,
     "metadata": {},
     "output_type": "execute_result"
    }
   ],
   "source": [
    "fruits.value_counts().head(1)"
   ]
  },
  {
   "cell_type": "markdown",
   "id": "3f8bf339-7a40-422e-8daf-7fe0be039258",
   "metadata": {},
   "source": [
    "## 10. Determine the string value that occurs least frequently in fruits."
   ]
  },
  {
   "cell_type": "code",
   "execution_count": 15,
   "id": "64c8f1f3-4950-4ec0-84ca-9af932afaec2",
   "metadata": {},
   "outputs": [
    {
     "data": {
      "text/plain": [
       "papaya    1\n",
       "dtype: int64"
      ]
     },
     "execution_count": 15,
     "metadata": {},
     "output_type": "execute_result"
    }
   ],
   "source": [
    "fruits.value_counts().tail(1)"
   ]
  },
  {
   "cell_type": "markdown",
   "id": "04b8d3d2-e4e3-47ed-bb9a-75581b4623f0",
   "metadata": {},
   "source": [
    "# Exercises pt. 2:"
   ]
  },
  {
   "cell_type": "markdown",
   "id": "21af7e63-88ca-4046-974f-69981055ae18",
   "metadata": {},
   "source": [
    "## 1. Capitalize all the string values in fruits"
   ]
  },
  {
   "cell_type": "code",
   "execution_count": 16,
   "id": "bb14bc67-c00b-4bc9-b171-2d46a5582fef",
   "metadata": {},
   "outputs": [
    {
     "data": {
      "text/plain": [
       "0                 KIWI\n",
       "1                MANGO\n",
       "2           STRAWBERRY\n",
       "3            PINEAPPLE\n",
       "4           GALA APPLE\n",
       "5     HONEYCRISP APPLE\n",
       "6               TOMATO\n",
       "7           WATERMELON\n",
       "8             HONEYDEW\n",
       "9                 KIWI\n",
       "10                KIWI\n",
       "11                KIWI\n",
       "12               MANGO\n",
       "13           BLUEBERRY\n",
       "14          BLACKBERRY\n",
       "15          GOOSEBERRY\n",
       "16              PAPAYA\n",
       "dtype: object"
      ]
     },
     "execution_count": 16,
     "metadata": {},
     "output_type": "execute_result"
    }
   ],
   "source": [
    "fruits.str.upper()\n"
   ]
  },
  {
   "cell_type": "markdown",
   "id": "b2f24cff-c14e-4252-b63b-497f759c021e",
   "metadata": {},
   "source": [
    "## 2. Count the letter \"a\" in all the string values (use string vectorization)."
   ]
  },
  {
   "cell_type": "code",
   "execution_count": 17,
   "id": "08edefb9-cf56-401d-b330-5bcc4ce6f674",
   "metadata": {},
   "outputs": [
    {
     "data": {
      "text/plain": [
       "0     0\n",
       "1     1\n",
       "2     1\n",
       "3     1\n",
       "4     3\n",
       "5     1\n",
       "6     1\n",
       "7     1\n",
       "8     0\n",
       "9     0\n",
       "10    0\n",
       "11    0\n",
       "12    1\n",
       "13    0\n",
       "14    1\n",
       "15    0\n",
       "16    3\n",
       "dtype: int64"
      ]
     },
     "execution_count": 17,
     "metadata": {},
     "output_type": "execute_result"
    }
   ],
   "source": [
    "fruits.str.count('a')"
   ]
  },
  {
   "cell_type": "markdown",
   "id": "49b26bb1-9054-406c-89ee-752db936b5e0",
   "metadata": {},
   "source": [
    "## 3. Output the number of vowels in each and every string value."
   ]
  },
  {
   "cell_type": "code",
   "execution_count": 18,
   "id": "6eeab027-c522-452d-9b44-f1f4ae877472",
   "metadata": {},
   "outputs": [
    {
     "data": {
      "text/plain": [
       "0     2\n",
       "1     2\n",
       "2     2\n",
       "3     4\n",
       "4     4\n",
       "5     5\n",
       "6     3\n",
       "7     4\n",
       "8     3\n",
       "9     2\n",
       "10    2\n",
       "11    2\n",
       "12    2\n",
       "13    3\n",
       "14    2\n",
       "15    4\n",
       "16    3\n",
       "dtype: int64"
      ]
     },
     "execution_count": 18,
     "metadata": {},
     "output_type": "execute_result"
    }
   ],
   "source": [
    "fruits.str.count('[aeiou]')"
   ]
  },
  {
   "cell_type": "markdown",
   "id": "ba42481d-bbaa-4876-ae7f-4ed932ddbaad",
   "metadata": {},
   "source": [
    "## 4. Write the code to get the longest string value from fruits"
   ]
  },
  {
   "cell_type": "code",
   "execution_count": 19,
   "id": "2edeedef-e27b-46cd-9396-e9ed514b10e1",
   "metadata": {},
   "outputs": [
    {
     "data": {
      "text/plain": [
       "'honeycrisp apple'"
      ]
     },
     "execution_count": 19,
     "metadata": {},
     "output_type": "execute_result"
    }
   ],
   "source": [
    "fruits [fruits.str.len().idxmax()]\n",
    "    \n",
    "    "
   ]
  },
  {
   "cell_type": "markdown",
   "id": "481fa60d-54d5-4cdb-9833-c0b921995fc9",
   "metadata": {},
   "source": [
    "## 5. Write the code to get the string values with 5 or more letters in the name."
   ]
  },
  {
   "cell_type": "code",
   "execution_count": 20,
   "id": "eb0a8a20-37f0-43e8-ba1b-7ef53606e907",
   "metadata": {},
   "outputs": [
    {
     "data": {
      "text/plain": [
       "1                mango\n",
       "2           strawberry\n",
       "3            pineapple\n",
       "4           gala apple\n",
       "5     honeycrisp apple\n",
       "6               tomato\n",
       "7           watermelon\n",
       "8             honeydew\n",
       "12               mango\n",
       "13           blueberry\n",
       "14          blackberry\n",
       "15          gooseberry\n",
       "16              papaya\n",
       "dtype: object"
      ]
     },
     "execution_count": 20,
     "metadata": {},
     "output_type": "execute_result"
    }
   ],
   "source": [
    "fruits [ fruits.str.len() >= 5]"
   ]
  },
  {
   "cell_type": "markdown",
   "id": "0e3352b2-d56b-48f1-bcd9-f20350967ac6",
   "metadata": {},
   "source": [
    "## 6. Find the fruit(s) containing the letter \"o\" two or more times."
   ]
  },
  {
   "cell_type": "code",
   "execution_count": 21,
   "id": "065c6b52-9977-41ba-90fe-2a6a760e3e72",
   "metadata": {},
   "outputs": [
    {
     "data": {
      "text/plain": [
       "6         tomato\n",
       "15    gooseberry\n",
       "dtype: object"
      ]
     },
     "execution_count": 21,
     "metadata": {},
     "output_type": "execute_result"
    }
   ],
   "source": [
    "fruits [ fruits.str.count('o') >= 2]"
   ]
  },
  {
   "cell_type": "markdown",
   "id": "f95e7057-49e8-4fc0-8815-223e3fe95571",
   "metadata": {},
   "source": [
    "## 7. Write the code to get only the string values containing the substring \"berry\"."
   ]
  },
  {
   "cell_type": "code",
   "execution_count": 22,
   "id": "dcca76ac-4bd1-442c-b808-ba84a29fbcb9",
   "metadata": {},
   "outputs": [
    {
     "data": {
      "text/plain": [
       "2     strawberry\n",
       "13     blueberry\n",
       "14    blackberry\n",
       "15    gooseberry\n",
       "dtype: object"
      ]
     },
     "execution_count": 22,
     "metadata": {},
     "output_type": "execute_result"
    }
   ],
   "source": [
    "fruits [ fruits.str[-5:] == 'berry']"
   ]
  },
  {
   "cell_type": "markdown",
   "id": "78b62ca5-adb2-4efa-9852-ca197b88e826",
   "metadata": {},
   "source": [
    "## 8. Write the code to get only the string values containing the substring \"apple\"."
   ]
  },
  {
   "cell_type": "code",
   "execution_count": 23,
   "id": "7333074a-b781-4f4a-943a-15832cf43405",
   "metadata": {},
   "outputs": [
    {
     "data": {
      "text/plain": [
       "3           pineapple\n",
       "4          gala apple\n",
       "5    honeycrisp apple\n",
       "dtype: object"
      ]
     },
     "execution_count": 23,
     "metadata": {},
     "output_type": "execute_result"
    }
   ],
   "source": [
    "fruits [ fruits.str[-5:] == 'apple']"
   ]
  },
  {
   "cell_type": "markdown",
   "id": "c1aaa015-3c6b-4cec-859d-ddc4b304c834",
   "metadata": {},
   "source": [
    "## 9. Which string value contains the most vowels?"
   ]
  },
  {
   "cell_type": "code",
   "execution_count": 24,
   "id": "68546aa7-d975-42c3-90ed-4893afc6fdad",
   "metadata": {},
   "outputs": [
    {
     "data": {
      "text/plain": [
       "'honeycrisp apple'"
      ]
     },
     "execution_count": 24,
     "metadata": {},
     "output_type": "execute_result"
    }
   ],
   "source": [
    "fruits [ fruits.str.count('[aeiou]').idxmax()]"
   ]
  },
  {
   "cell_type": "markdown",
   "id": "7703405e-8a3c-4267-a52e-b900ebee755a",
   "metadata": {},
   "source": [
    "# Exercises pt. 3:"
   ]
  },
  {
   "cell_type": "code",
   "execution_count": 25,
   "id": "531e512b-45cb-44ea-83de-54f8d38c2c05",
   "metadata": {},
   "outputs": [],
   "source": [
    "ok = list('hnvidduckkqxwymbimkccexbkmqygkxoyndmcxnwqarhyffsjpsrabtjzsypmzadfavyrnndndvswreauxovncxtwzpwejilzjrmmbbgbyxvjtewqthafnbkqplarokkyydtubbmnexoypulzwfhqvckdpqtpoppzqrmcvhhpwgjwupgzhiofohawytlsiyecuproguy')\n",
    "letters = pd.Series(ok)"
   ]
  },
  {
   "cell_type": "markdown",
   "id": "7177bc26-8e7f-4d83-ae66-3120a8195220",
   "metadata": {},
   "source": [
    "## 1. Which letter occurs the most frequently in the letters Series?"
   ]
  },
  {
   "cell_type": "code",
   "execution_count": 26,
   "id": "00a887bd-acb8-43ee-a83b-139b17aa4cac",
   "metadata": {},
   "outputs": [
    {
     "data": {
      "text/plain": [
       "'y'"
      ]
     },
     "execution_count": 26,
     "metadata": {},
     "output_type": "execute_result"
    }
   ],
   "source": [
    "letters.value_counts().idxmax()"
   ]
  },
  {
   "cell_type": "markdown",
   "id": "7ede1158-d8eb-4406-b313-58f4e3f22b8a",
   "metadata": {},
   "source": [
    "## 2. Which letter occurs the Least frequently?"
   ]
  },
  {
   "cell_type": "code",
   "execution_count": 27,
   "id": "c910c837-80b2-412d-80ad-3e5a5be534a4",
   "metadata": {},
   "outputs": [
    {
     "data": {
      "text/plain": [
       "'l'"
      ]
     },
     "execution_count": 27,
     "metadata": {},
     "output_type": "execute_result"
    }
   ],
   "source": [
    "letters.value_counts().idxmin()"
   ]
  },
  {
   "cell_type": "markdown",
   "id": "6d3e02e5-2d57-4efb-9ede-fb110f69afa2",
   "metadata": {},
   "source": [
    "## 3. How many vowels are in the Series?"
   ]
  },
  {
   "cell_type": "code",
   "execution_count": 28,
   "id": "5dcaee1a-bf96-4af1-8cab-8eedc7ad8935",
   "metadata": {},
   "outputs": [
    {
     "data": {
      "text/plain": [
       "34"
      ]
     },
     "execution_count": 28,
     "metadata": {},
     "output_type": "execute_result"
    }
   ],
   "source": [
    "count = 0 \n",
    "for x in letters:\n",
    "    if x in 'aeiou':\n",
    "        count += 1\n",
    "count"
   ]
  },
  {
   "cell_type": "markdown",
   "id": "9ccbe795-a226-4016-879a-41b2f189776f",
   "metadata": {},
   "source": [
    "## 4. How many consonants are in the Series?"
   ]
  },
  {
   "cell_type": "code",
   "execution_count": 29,
   "id": "f0928b15-b643-4a9a-baff-6dfd8da9dad6",
   "metadata": {},
   "outputs": [
    {
     "data": {
      "text/plain": [
       "166"
      ]
     },
     "execution_count": 29,
     "metadata": {},
     "output_type": "execute_result"
    }
   ],
   "source": [
    "count = 0\n",
    "for x in letters:\n",
    "    if x not in 'aeiou':\n",
    "        count += 1\n",
    "count"
   ]
  },
  {
   "cell_type": "markdown",
   "id": "67d1c7f2-5102-494d-a3d4-9d6c098f42ee",
   "metadata": {},
   "source": [
    "## 5. Create a Series that has all of the same letters but uppercased."
   ]
  },
  {
   "cell_type": "code",
   "execution_count": 30,
   "id": "305e9f4c-04a6-4cb1-9036-af052e7420ba",
   "metadata": {},
   "outputs": [
    {
     "data": {
      "text/plain": [
       "0      H\n",
       "1      N\n",
       "2      V\n",
       "3      I\n",
       "4      D\n",
       "      ..\n",
       "195    R\n",
       "196    O\n",
       "197    G\n",
       "198    U\n",
       "199    Y\n",
       "Length: 200, dtype: object"
      ]
     },
     "execution_count": 30,
     "metadata": {},
     "output_type": "execute_result"
    }
   ],
   "source": [
    "newSeries = letters.str.upper()\n",
    "newSeries"
   ]
  },
  {
   "cell_type": "markdown",
   "id": "48661852-72a2-4e16-8491-1acc8d19e141",
   "metadata": {},
   "source": [
    "## 6.Create a bar plot of the frequencies of the 6 most commonly occuring letters."
   ]
  },
  {
   "cell_type": "code",
   "execution_count": 31,
   "id": "c4b73c98-a8f8-419e-8fc7-da799ae08317",
   "metadata": {},
   "outputs": [],
   "source": [
    "myPlot = letters.value_counts().head(6)"
   ]
  },
  {
   "cell_type": "code",
   "execution_count": 32,
   "id": "b9a6dda3-f760-4798-85d5-fa024bb679cd",
   "metadata": {},
   "outputs": [
    {
     "data": {
      "text/plain": [
       "<AxesSubplot:>"
      ]
     },
     "execution_count": 32,
     "metadata": {},
     "output_type": "execute_result"
    },
    {
     "data": {
      "image/png": "[encoded data removed]",
      "text/plain": [
       "<Figure size 432x288 with 1 Axes>"
      ]
     },
     "metadata": {
      "needs_background": "light"
     },
     "output_type": "display_data"
    }
   ],
   "source": [
    "myPlot.plot()"
   ]
  },
  {
   "cell_type": "markdown",
   "id": "f812adcf-8a28-4820-a928-38273b8c866c",
   "metadata": {},
   "source": [
    "# Part 3.2:"
   ]
  },
  {
   "cell_type": "code",
   "execution_count": 33,
   "id": "4c81da1b-0915-43fe-b295-6452e61cba03",
   "metadata": {},
   "outputs": [],
   "source": [
    "numbers = pd.Series(['$796,459.41', '$278.60', '$482,571.67', '$4,503,915.98', '$2,121,418.3', '$1,260,813.3', '$87,231.01', '$1,509,175.45', '$4,138,548.00', '$2,848,913.80', '$594,715.39', '$4,789,988.17', '$4,513,644.5', '$3,191,059.97', '$1,758,712.24', '$4,338,283.54', '$4,738,303.38', '$2,791,759.67', '$769,681.94', '$452,650.23'])"
   ]
  },
  {
   "cell_type": "markdown",
   "id": "72f5f156-0650-4c81-9da9-6ec560436f42",
   "metadata": {},
   "source": [
    "## 1. What is the data type of the numbers Series?"
   ]
  },
  {
   "cell_type": "code",
   "execution_count": 34,
   "id": "a93c2ba3-cb6e-4dc5-a188-ca0a43f73327",
   "metadata": {},
   "outputs": [
    {
     "data": {
      "text/plain": [
       "dtype('O')"
      ]
     },
     "execution_count": 34,
     "metadata": {},
     "output_type": "execute_result"
    }
   ],
   "source": [
    "numbers.dtype"
   ]
  },
  {
   "cell_type": "markdown",
   "id": "b5dd83b2-fab7-481a-8a66-a49b82980efc",
   "metadata": {},
   "source": [
    "Object data type"
   ]
  },
  {
   "cell_type": "markdown",
   "id": "94b7dcb6-b570-421c-8118-b5adbc9c55b2",
   "metadata": {},
   "source": [
    "## 2. How many elements are in the number Series?"
   ]
  },
  {
   "cell_type": "code",
   "execution_count": 35,
   "id": "5337901f-72c4-468a-b727-1e829a4a5954",
   "metadata": {},
   "outputs": [
    {
     "data": {
      "text/plain": [
       "20"
      ]
     },
     "execution_count": 35,
     "metadata": {},
     "output_type": "execute_result"
    }
   ],
   "source": [
    "len(numbers)"
   ]
  },
  {
   "cell_type": "markdown",
   "id": "268fc24f-0ca4-47a7-a2ae-6ab74c5efd7b",
   "metadata": {},
   "source": [
    "## 3. Perform the necessary manipulations by accessing Series attributes and methods to convert the numbers Series to a numeric data type."
   ]
  },
  {
   "cell_type": "code",
   "execution_count": 36,
   "id": "57dba53c-fee1-493c-b81c-35fcfa7e298d",
   "metadata": {},
   "outputs": [
    {
     "data": {
      "text/plain": [
       "[796459.41,\n",
       " 278.6,\n",
       " 482571.67,\n",
       " 4503915.98,\n",
       " 2121418.3,\n",
       " 1260813.3,\n",
       " 87231.01,\n",
       " 1509175.45,\n",
       " 4138548.0,\n",
       " 2848913.8,\n",
       " 594715.39,\n",
       " 4789988.17,\n",
       " 4513644.5,\n",
       " 3191059.97,\n",
       " 1758712.24,\n",
       " 4338283.54,\n",
       " 4738303.38,\n",
       " 2791759.67,\n",
       " 769681.94,\n",
       " 452650.23]"
      ]
     },
     "execution_count": 36,
     "metadata": {},
     "output_type": "execute_result"
    }
   ],
   "source": [
    "clean_balance(numbers)"
   ]
  },
  {
   "cell_type": "markdown",
   "id": "84772cb8-5c4a-4fd0-85f4-6ee2f8a11f96",
   "metadata": {},
   "source": [
    "## 4. Run the code to discover the maximum value from the Series."
   ]
  },
  {
   "cell_type": "code",
   "execution_count": 37,
   "id": "774bb1fd-25f2-4aba-8b61-e524c6833bdc",
   "metadata": {},
   "outputs": [
    {
     "data": {
      "text/plain": [
       "4789988.17"
      ]
     },
     "execution_count": 37,
     "metadata": {},
     "output_type": "execute_result"
    }
   ],
   "source": [
    "max(clean_balance(numbers))"
   ]
  },
  {
   "cell_type": "markdown",
   "id": "007d417a-11fb-4136-8c34-4480890cf038",
   "metadata": {},
   "source": [
    "## 5. Run the code to discover the minimum value from the Series."
   ]
  },
  {
   "cell_type": "code",
   "execution_count": 38,
   "id": "197b252f-89a6-42b8-a9f6-b14e8c834f37",
   "metadata": {},
   "outputs": [
    {
     "data": {
      "text/plain": [
       "278.6"
      ]
     },
     "execution_count": 38,
     "metadata": {},
     "output_type": "execute_result"
    }
   ],
   "source": [
    "min(clean_balance(numbers))"
   ]
  },
  {
   "cell_type": "markdown",
   "id": "ec831048-fb01-4498-a75f-b1457c3ec214",
   "metadata": {},
   "source": [
    "## 6. What is the range of the values in the Series?"
   ]
  },
  {
   "cell_type": "code",
   "execution_count": 40,
   "id": "87894eb4-3603-4376-8a72-56b9067b3c7c",
   "metadata": {},
   "outputs": [
    {
     "data": {
      "text/plain": [
       "4789709.57"
      ]
     },
     "execution_count": 40,
     "metadata": {},
     "output_type": "execute_result"
    }
   ],
   "source": [
    "max(clean_balance(numbers)) - min(clean_balance(numbers))"
   ]
  },
  {
   "cell_type": "markdown",
   "id": "97fb34d5-57ac-4930-80de-62639a7dc4fd",
   "metadata": {},
   "source": [
    "## 7. Bin the data into 4 equally sized intervals or bins and output how many values fall into each bin."
   ]
  },
  {
   "cell_type": "code",
   "execution_count": 49,
   "id": "7d0355e7-0e33-4c5b-9b18-3a6f4ebffd6d",
   "metadata": {},
   "outputs": [
    {
     "data": {
      "text/plain": [
       "[(-4511.11, 1197705.993], (-4511.11, 1197705.993], (-4511.11, 1197705.993], (3592560.778, 4789988.17], (1197705.993, 2395133.385], ..., (3592560.778, 4789988.17], (3592560.778, 4789988.17], (2395133.385, 3592560.778], (-4511.11, 1197705.993], (-4511.11, 1197705.993]]\n",
       "Length: 20\n",
       "Categories (4, interval[float64, right]): [(-4511.11, 1197705.993] < (1197705.993, 2395133.385] < (2395133.385, 3592560.778] < (3592560.778, 4789988.17]]"
      ]
     },
     "execution_count": 49,
     "metadata": {},
     "output_type": "execute_result"
    }
   ],
   "source": [
    "pd.cut(clean_balance(numbers), 4)"
   ]
  },
  {
   "cell_type": "markdown",
   "id": "3286a1b0-81db-4307-a744-66447601eb72",
   "metadata": {},
   "source": [
    "## 8. Plot the binned data in a meaningful way. Be sure to include a title and axis labels."
   ]
  },
  {
   "cell_type": "code",
   "execution_count": 114,
   "id": "e34b0122-5e4a-4bd4-b4e3-84852c56d5c3",
   "metadata": {},
   "outputs": [
    {
     "data": {
      "text/plain": [
       "(-4511.11, 1197705.993]       7\n",
       "(1197705.993, 2395133.385]    4\n",
       "(2395133.385, 3592560.778]    3\n",
       "(3592560.778, 4789988.17]     6\n",
       "dtype: int64"
      ]
     },
     "execution_count": 114,
     "metadata": {},
     "output_type": "execute_result"
    }
   ],
   "source": [
    "newPlot"
   ]
  },
  {
   "cell_type": "code",
   "execution_count": 89,
   "id": "19543a00-0b65-4f6f-a74a-f7afd40843a7",
   "metadata": {},
   "outputs": [],
   "source": [
    "newPlot = pd.cut(clean_balance(numbers), 4).value_counts()"
   ]
  },
  {
   "cell_type": "code",
   "execution_count": 92,
   "id": "3a483d15-a54d-455f-8e21-2d905760edc4",
   "metadata": {},
   "outputs": [
    {
     "data": {
      "text/plain": [
       "[Text(0.5, 0, 'bins'), Text(0, 0.5, 'count in bins')]"
      ]
     },
     "execution_count": 92,
     "metadata": {},
     "output_type": "execute_result"
    },
    {
     "data": {
      "image/png": "[encoded data removed]",
      "text/plain": [
       "<Figure size 432x288 with 1 Axes>"
      ]
     },
     "metadata": {
      "needs_background": "light"
     },
     "output_type": "display_data"
    }
   ],
   "source": [
    "newPlot.plot.bar(title='our numbers in 4 bins').set(xlabel='bins',ylabel = 'count in bins')"
   ]
  },
  {
   "cell_type": "markdown",
   "id": "dec087b1-f9b7-4689-b111-8755226cece2",
   "metadata": {
    "tags": []
   },
   "source": [
    "# Part 3.3:\n"
   ]
  },
  {
   "cell_type": "code",
   "execution_count": 94,
   "id": "0cf0c6db-e527-4f84-8a8e-2d08f48ade83",
   "metadata": {},
   "outputs": [
    {
     "data": {
      "text/plain": [
       "0     60\n",
       "1     86\n",
       "2     75\n",
       "3     62\n",
       "4     93\n",
       "5     71\n",
       "6     60\n",
       "7     83\n",
       "8     95\n",
       "9     78\n",
       "10    65\n",
       "11    72\n",
       "12    69\n",
       "13    81\n",
       "14    96\n",
       "15    80\n",
       "16    85\n",
       "17    92\n",
       "18    82\n",
       "19    78\n",
       "dtype: int64"
      ]
     },
     "execution_count": 94,
     "metadata": {},
     "output_type": "execute_result"
    }
   ],
   "source": [
    "exam_scores = pd.Series([60, 86, 75, 62, 93, 71, 60, 83, 95, 78, 65, 72, 69, 81, 96, 80, 85, 92, 82, 78])\n",
    "exam_scores"
   ]
  },
  {
   "cell_type": "markdown",
   "id": "6f57cd95-b3dc-4f36-9aa0-a9e1efa5089a",
   "metadata": {},
   "source": [
    "## 1. How many elements are in the exam_scores Series?"
   ]
  },
  {
   "cell_type": "code",
   "execution_count": 95,
   "id": "ed2ebd9e-3205-45bb-8ae9-e1cee68bbdcf",
   "metadata": {},
   "outputs": [
    {
     "data": {
      "text/plain": [
       "20"
      ]
     },
     "execution_count": 95,
     "metadata": {},
     "output_type": "execute_result"
    }
   ],
   "source": [
    "len(exam_scores)"
   ]
  },
  {
   "cell_type": "markdown",
   "id": "feac4a13-accf-40c9-b271-72a6937fc4cc",
   "metadata": {},
   "source": [
    "## 2. Run the code to discover the minimum, the maximum, the mean, and the median scores for the exam_scores Series."
   ]
  },
  {
   "cell_type": "code",
   "execution_count": 96,
   "id": "db638e80-bfc5-4864-b7ec-488115b7a0a6",
   "metadata": {},
   "outputs": [
    {
     "data": {
      "text/plain": [
       "60"
      ]
     },
     "execution_count": 96,
     "metadata": {},
     "output_type": "execute_result"
    }
   ],
   "source": [
    "min(exam_scores)"
   ]
  },
  {
   "cell_type": "code",
   "execution_count": 97,
   "id": "92547faa-4a20-4f44-9881-f11b7826012e",
   "metadata": {},
   "outputs": [
    {
     "data": {
      "text/plain": [
       "96"
      ]
     },
     "execution_count": 97,
     "metadata": {},
     "output_type": "execute_result"
    }
   ],
   "source": [
    "max(exam_scores)"
   ]
  },
  {
   "cell_type": "code",
   "execution_count": 100,
   "id": "424ffd6b-c0e1-4b9a-a242-143af3940f51",
   "metadata": {},
   "outputs": [
    {
     "data": {
      "text/plain": [
       "78.15"
      ]
     },
     "execution_count": 100,
     "metadata": {},
     "output_type": "execute_result"
    }
   ],
   "source": [
    "np.mean(exam_scores)"
   ]
  },
  {
   "cell_type": "code",
   "execution_count": 101,
   "id": "0b1eda74-7557-4b3b-bcbf-ee5146e3c838",
   "metadata": {},
   "outputs": [
    {
     "data": {
      "text/plain": [
       "79.0"
      ]
     },
     "execution_count": 101,
     "metadata": {},
     "output_type": "execute_result"
    }
   ],
   "source": [
    "np.median(exam_scores)"
   ]
  },
  {
   "cell_type": "markdown",
   "id": "da8666c7-ff4e-44c2-ad9d-a4abba036631",
   "metadata": {},
   "source": [
    "## 3. Plot the Series in a meaningful way and make sure your chart has a title and axis labels.\n"
   ]
  },
  {
   "cell_type": "code",
   "execution_count": 116,
   "id": "98f102ed-7f53-4ca0-9c2a-8d0b460a4f28",
   "metadata": {},
   "outputs": [],
   "source": [
    "binned = pd.cut(exam_scores, [0,60,70,80,90,100]).value_counts().sort_index()"
   ]
  },
  {
   "cell_type": "code",
   "execution_count": 117,
   "id": "fbc1ea1a-9379-416f-a7a4-d07ca8a09f49",
   "metadata": {},
   "outputs": [
    {
     "data": {
      "text/plain": [
       "[Text(0.5, 0, 'letter grade'), Text(0, 0.5, 'count of students')]"
      ]
     },
     "execution_count": 117,
     "metadata": {},
     "output_type": "execute_result"
    },
    {
     "data": {
      "image/png": "[encoded data removed]",
      "text/plain": [
       "<Figure size 432x288 with 1 Axes>"
      ]
     },
     "metadata": {
      "needs_background": "light"
     },
     "output_type": "display_data"
    }
   ],
   "source": [
    "binned.plot.bar(title='grades binned by letter').set(xlabel='letter grade',ylabel = 'count of students')"
   ]
  },
  {
   "cell_type": "markdown",
   "id": "6be0fbda-0b60-41f7-b48b-fe029686ee1f",
   "metadata": {},
   "source": [
    "### 4. Write the code necessary to implement a curve for your exam_grades Series and save this as curved_grades. Add the necessary points to the highest grade to make it 100, and add the same number of points to every other score in the Series as well.\n",
    "\n"
   ]
  },
  {
   "cell_type": "code",
   "execution_count": 121,
   "id": "5ce02bc7-9ac9-4d46-a0ec-4c41ae15a069",
   "metadata": {},
   "outputs": [
    {
     "data": {
      "text/plain": [
       "0      64\n",
       "1      90\n",
       "2      79\n",
       "3      66\n",
       "4      97\n",
       "5      75\n",
       "6      64\n",
       "7      87\n",
       "8      99\n",
       "9      82\n",
       "10     69\n",
       "11     76\n",
       "12     73\n",
       "13     85\n",
       "14    100\n",
       "15     84\n",
       "16     89\n",
       "17     96\n",
       "18     86\n",
       "19     82\n",
       "dtype: int64"
      ]
     },
     "execution_count": 121,
     "metadata": {},
     "output_type": "execute_result"
    }
   ],
   "source": [
    "curve = 100 - max(exam_scores)\n",
    "curved_grades = exam_scores + 4\n",
    "curved_grades"
   ]
  },
  {
   "cell_type": "markdown",
   "id": "5057c3ef-ea93-4f76-8c38-f1098ceb06e8",
   "metadata": {},
   "source": [
    "## 5. Use a method to convert each of the numeric values in the curved_grades Series into a categorical value of letter grades. For example, 86 should be a 'B' and 95 should be an 'A'. Save this as a Series named letter_grades."
   ]
  },
  {
   "cell_type": "code",
   "execution_count": 156,
   "id": "b9abff0a-23cb-4f7f-aabd-30ca68e3cc9a",
   "metadata": {},
   "outputs": [],
   "source": [
    "letter_grades = curved_grades.replace(range(90,101),'A')\n",
    "letter_grades = letter_grades.replace(range(80,90),'B')\n",
    "letter_grades = letter_grades.replace(range(70,80),'C')\n",
    "letter_grades = letter_grades.replace(range(60,70),'D')\n",
    "letter_grades = letter_grades.replace(range(0,60),'F')"
   ]
  },
  {
   "cell_type": "code",
   "execution_count": 157,
   "id": "f9401b7c-ad4b-442e-85c1-202706db16ff",
   "metadata": {},
   "outputs": [
    {
     "data": {
      "text/plain": [
       "0     D\n",
       "1     A\n",
       "2     C\n",
       "3     D\n",
       "4     A\n",
       "5     C\n",
       "6     D\n",
       "7     B\n",
       "8     A\n",
       "9     B\n",
       "10    D\n",
       "11    C\n",
       "12    C\n",
       "13    B\n",
       "14    A\n",
       "15    B\n",
       "16    B\n",
       "17    A\n",
       "18    B\n",
       "19    B\n",
       "dtype: object"
      ]
     },
     "execution_count": 157,
     "metadata": {},
     "output_type": "execute_result"
    }
   ],
   "source": [
    "letter_grades"
   ]
  },
  {
   "cell_type": "markdown",
   "id": "61ea329c-386b-4734-8ca5-a5e78e3b6e01",
   "metadata": {},
   "source": [
    "## 6. Plot your new categorical letter_grades Series in a meaninful way and include a title and axis labels."
   ]
  },
  {
   "cell_type": "code",
   "execution_count": 162,
   "id": "68d14406-a686-45d1-bb05-44b69d0485b3",
   "metadata": {},
   "outputs": [
    {
     "data": {
      "text/plain": [
       "[Text(0.5, 0, 'letter grade'), Text(0, 0.5, 'count of students')]"
      ]
     },
     "execution_count": 162,
     "metadata": {},
     "output_type": "execute_result"
    },
    {
     "data": {
      "image/png": "[encoded data removed]",
      "text/plain": [
       "<Figure size 432x288 with 1 Axes>"
      ]
     },
     "metadata": {
      "needs_background": "light"
     },
     "output_type": "display_data"
    }
   ],
   "source": [
    "letter_grades.value_counts().sort_index().plot.bar(title = 'exam scores').set(xlabel='letter grade', ylabel = 'count of students')"
   ]
  },
  {
   "cell_type": "code",
   "execution_count": null,
   "id": "ac7be0b5-d6f3-4bb9-a2ec-984fb96f6a7e",
   "metadata": {},
   "outputs": [],
   "source": []
  }
 ],
 "metadata": {
  "kernelspec": {
   "display_name": "Python 3 (ipykernel)",
   "language": "python",
   "name": "python3"
  },
  "language_info": {
   "codemirror_mode": {
    "name": "ipython",
    "version": 3
   },
   "file_extension": ".py",
   "mimetype": "text/x-python",
   "name": "python",
   "nbconvert_exporter": "python",
   "pygments_lexer": "ipython3",
   "version": "3.9.12"
  }
 },
 "nbformat": 4,
 "nbformat_minor": 5
}
